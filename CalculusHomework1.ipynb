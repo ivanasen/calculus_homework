{
  "nbformat": 4,
  "nbformat_minor": 0,
  "metadata": {
    "colab": {
      "name": "CalculusHomework1.ipynb",
      "provenance": [],
      "collapsed_sections": [],
      "include_colab_link": true
    },
    "kernelspec": {
      "name": "python3",
      "display_name": "Python 3"
    }
  },
  "cells": [
    {
      "cell_type": "markdown",
      "metadata": {
        "id": "view-in-github",
        "colab_type": "text"
      },
      "source": [
        "<a href=\"https://colab.research.google.com/github/ivanasen/calculus_homework/blob/master/CalculusHomework1.ipynb\" target=\"_parent\"><img src=\"https://colab.research.google.com/assets/colab-badge.svg\" alt=\"Open In Colab\"/></a>"
      ]
    },
    {
      "cell_type": "markdown",
      "metadata": {
        "id": "bXolRiyzbpFf",
        "colab_type": "text"
      },
      "source": [
        "# Calculus Homework 1\n",
        "\n",
        "## Problem 24\n",
        "\n",
        "#### Ivan-Asen Veselinov Chakarov\n",
        "##### Faculty Number: 81837\n",
        "\n",
        "\n"
      ]
    },
    {
      "cell_type": "markdown",
      "metadata": {
        "id": "tdb-g8GnkFzw",
        "colab_type": "text"
      },
      "source": [
        "Given the series $\\{a_n\\}_{n=1}^{\\infty}$ where $a_1 = \\lambda$ and $\\forall n \\in \\mathbb{N}$:\n",
        "\n",
        "$$a_{n+1}=\\dfrac{2{a_n^2} + 2{a_n} + 8}{{a_n} + 8}$$\n",
        "\n",
        "Write a program, which given a $\\lambda$ returns the limit of the series, and given $5$ big enough indeces returns the corresponding term with a good precision.\n"
      ]
    },
    {
      "cell_type": "code",
      "metadata": {
        "id": "Mnp6_fBBbDCT",
        "colab_type": "code",
        "outputId": "919926ad-9db8-48c4-d6d6-cae242b2c833",
        "colab": {
          "base_uri": "https://localhost:8080/",
          "height": 269
        }
      },
      "source": [
        "from math import *\n",
        "from decimal import *\n",
        "\n",
        "cached_terms = []\n",
        "index_count = 5\n",
        "\n",
        "\n",
        "def converges(first):\n",
        "    if first == -8:\n",
        "        return None\n",
        "    if first < -8:\n",
        "        return -inf\n",
        "    if first > 4 or -8 < first < -3:\n",
        "        return inf\n",
        "    if -2 < first < 4 or first == -2 or 2:\n",
        "        return 2\n",
        "    return 4\n",
        "\n",
        "\n",
        "cached_terms = []\n",
        "index_count = 5\n",
        "\n",
        "\n",
        "def converges(first):\n",
        "    if first == -8:\n",
        "        return None\n",
        "    if first < -8:\n",
        "        return -inf\n",
        "    if first > 4 or -8 < first < -3:\n",
        "        return inf\n",
        "    if -2 < first < 4 or first == -2 or 2:\n",
        "        return 2\n",
        "    return 4\n",
        "\n",
        "\n",
        "def calculate_next(prev):\n",
        "    return Decimal((2 * (prev ** 2) + 2 * prev + 8) / (prev + 8))\n",
        "\n",
        "\n",
        "def calculate_term(first, term_number):\n",
        "    if term_number < 1:\n",
        "        return None\n",
        "\n",
        "    if term_number <= len(cached_terms):\n",
        "        return cached_terms[term_number - 1]\n",
        "\n",
        "    if len(cached_terms) == 0:\n",
        "        cached_terms.append(first)\n",
        "\n",
        "    result = cached_terms[-1]\n",
        "    while len(cached_terms) < term_number:\n",
        "        result = calculate_next(result)\n",
        "        cached_terms.append(result)\n",
        "\n",
        "    return result\n",
        "\n",
        "\n",
        "def calculate_terms(first):\n",
        "    print('Enter 5 indexes to calculate the series at:')\n",
        "\n",
        "    for i in range(0, index_count):\n",
        "        index = int(input())\n",
        "        print(f'series term at {index} is {calculate_term(first, index)}')\n",
        "\n",
        "\n",
        "print('Please enter a first term to see if the series converges:')\n",
        "\n",
        "first = Decimal(input())\n",
        "result = converges(first)\n",
        "\n",
        "if result == None:\n",
        "    print(f'When lambda is {first} the series is not defined.')\n",
        "else:\n",
        "    if result == inf or result == -inf:\n",
        "        print(\n",
        "            f'When lambda is {first} the series does not converge and goes to {result}.')\n",
        "        print('\\n')\n",
        "    else:\n",
        "        print(f'When lambda is {first} the series converges to: {result}\\n')\n",
        "    calculate_terms(first)\n"
      ],
      "execution_count": 0,
      "outputs": [
        {
          "output_type": "stream",
          "text": [
            "Please enter a first term to see if the series converges:\n",
            "3\n",
            "When lambda is 3 the series converges to: 2\n",
            "\n",
            "Enter 5 indexes to calculate the series at:\n",
            "30\n",
            "series term at 30 is 2.004305095549831198111362110\n",
            "50\n",
            "series term at 50 is 2.000049793196023798172975168\n",
            "1000\n",
            "series term at 1000 is 2.000000000000000000000000004\n",
            "100000\n",
            "series term at 100000 is 2.000000000000000000000000004\n",
            "1000000\n",
            "series term at 1000000 is 2.000000000000000000000000004\n"
          ],
          "name": "stdout"
        }
      ]
    }
  ]
}